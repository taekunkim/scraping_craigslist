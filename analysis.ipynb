{
 "cells": [
  {
   "cell_type": "code",
   "execution_count": 1,
   "metadata": {},
   "outputs": [],
   "source": [
    "import pandas as pd\n",
    "import numpy as np\n",
    "import datetime"
   ]
  },
  {
   "cell_type": "markdown",
   "metadata": {},
   "source": [
    "## Wrangle Data"
   ]
  },
  {
   "cell_type": "code",
   "execution_count": 2,
   "metadata": {
    "scrolled": true
   },
   "outputs": [],
   "source": [
    "full_df = pd.read_csv('tracking.csv', parse_dates = ['date', 'last_seen'])\n",
    "simple_df = full_df.copy()"
   ]
  },
  {
   "cell_type": "code",
   "execution_count": 3,
   "metadata": {},
   "outputs": [],
   "source": [
    "# In the Python script, I used df.drop_duplicates(), but duplicates containing NaN values were not dropped\n",
    "# even if they have duplciates.\n",
    "# I will circumvent this issue by resetting NaN to a different \"none\"\n",
    "\n",
    "cols = simple_df.columns\n",
    "\n",
    "for col in cols:\n",
    "    simple_df[col] = ['none' if each is np.nan else each for each in simple_df[col]]\n",
    "\n",
    "simple_df.sort_values('last_seen', ascending = False, inplace = True)\n",
    "simple_df.drop_duplicates(subset = simple_df.columns[-1], keep = 'first', inplace = True)"
   ]
  },
  {
   "cell_type": "code",
   "execution_count": 4,
   "metadata": {
    "scrolled": true
   },
   "outputs": [
    {
     "data": {
      "text/html": [
       "<div>\n",
       "<style scoped>\n",
       "    .dataframe tbody tr th:only-of-type {\n",
       "        vertical-align: middle;\n",
       "    }\n",
       "\n",
       "    .dataframe tbody tr th {\n",
       "        vertical-align: top;\n",
       "    }\n",
       "\n",
       "    .dataframe thead th {\n",
       "        text-align: right;\n",
       "    }\n",
       "</style>\n",
       "<table border=\"1\" class=\"dataframe\">\n",
       "  <thead>\n",
       "    <tr style=\"text-align: right;\">\n",
       "      <th></th>\n",
       "      <th>id</th>\n",
       "      <th>name</th>\n",
       "      <th>price</th>\n",
       "      <th>date</th>\n",
       "      <th>location</th>\n",
       "      <th>images</th>\n",
       "      <th>last_seen</th>\n",
       "    </tr>\n",
       "  </thead>\n",
       "  <tbody>\n",
       "    <tr>\n",
       "      <td>19373</td>\n",
       "      <td>7163883410</td>\n",
       "      <td>63</td>\n",
       "      <td>595.0</td>\n",
       "      <td>2020-07-22 08:36:00</td>\n",
       "      <td>We buy used office cubicles and furniture</td>\n",
       "      <td>5</td>\n",
       "      <td>2020-08-21 23:00:10</td>\n",
       "    </tr>\n",
       "    <tr>\n",
       "      <td>19183</td>\n",
       "      <td>7166291325</td>\n",
       "      <td>69</td>\n",
       "      <td>0.0</td>\n",
       "      <td>2020-07-26 10:26:00</td>\n",
       "      <td>none</td>\n",
       "      <td>1</td>\n",
       "      <td>2020-08-21 23:00:07</td>\n",
       "    </tr>\n",
       "    <tr>\n",
       "      <td>19062</td>\n",
       "      <td>7179307531</td>\n",
       "      <td>18</td>\n",
       "      <td>15.0</td>\n",
       "      <td>2020-08-19 15:53:00</td>\n",
       "      <td>kerny mesa</td>\n",
       "      <td>2</td>\n",
       "      <td>2020-08-21 23:00:05</td>\n",
       "    </tr>\n",
       "    <tr>\n",
       "      <td>18935</td>\n",
       "      <td>7179916663</td>\n",
       "      <td>17</td>\n",
       "      <td>10.0</td>\n",
       "      <td>2020-08-18 14:29:00</td>\n",
       "      <td>Temecula, CA</td>\n",
       "      <td>4</td>\n",
       "      <td>2020-08-21 23:00:03</td>\n",
       "    </tr>\n",
       "    <tr>\n",
       "      <td>18856</td>\n",
       "      <td>7176312281</td>\n",
       "      <td>54</td>\n",
       "      <td>1.0</td>\n",
       "      <td>2020-08-12 15:00:00</td>\n",
       "      <td>none</td>\n",
       "      <td>24</td>\n",
       "      <td>2020-08-21 22:00:15</td>\n",
       "    </tr>\n",
       "  </tbody>\n",
       "</table>\n",
       "</div>"
      ],
      "text/plain": [
       "               id  name  price                date  \\\n",
       "19373  7163883410    63  595.0 2020-07-22 08:36:00   \n",
       "19183  7166291325    69    0.0 2020-07-26 10:26:00   \n",
       "19062  7179307531    18   15.0 2020-08-19 15:53:00   \n",
       "18935  7179916663    17   10.0 2020-08-18 14:29:00   \n",
       "18856  7176312281    54    1.0 2020-08-12 15:00:00   \n",
       "\n",
       "                                        location  images           last_seen  \n",
       "19373  We buy used office cubicles and furniture       5 2020-08-21 23:00:10  \n",
       "19183                                       none       1 2020-08-21 23:00:07  \n",
       "19062                                 kerny mesa       2 2020-08-21 23:00:05  \n",
       "18935                               Temecula, CA       4 2020-08-21 23:00:03  \n",
       "18856                                       none      24 2020-08-21 22:00:15  "
      ]
     },
     "execution_count": 4,
     "metadata": {},
     "output_type": "execute_result"
    }
   ],
   "source": [
    "# drop all columns unnecessary for analysis\n",
    "simple_df = simple_df.drop('url', axis = 1)\n",
    "\n",
    "# only the number of images posted are in our interest\n",
    "simple_df['images'] = simple_df['images'].apply(lambda x: 0 if (isinstance(x, float) and math.isnan(x)) else len(x.split(',')))\n",
    "\n",
    "# only the number of characters of a listing's name is important for this analysis\n",
    "simple_df['name'] = simple_df['name'].apply(lambda x: len(x))\n",
    "\n",
    "simple_df.head()"
   ]
  },
  {
   "cell_type": "markdown",
   "metadata": {},
   "source": [
    "## Find Out For How Long Listings Are Usually Posted"
   ]
  },
  {
   "cell_type": "code",
   "execution_count": 16,
   "metadata": {},
   "outputs": [
    {
     "name": "stdout",
     "output_type": "stream",
     "text": [
      "Average time a listing is posted:  11 days, 23:44:08\n",
      "Median time a listing is posted:  7 days, 8:12:05\n"
     ]
    }
   ],
   "source": [
    "# Let's see for how long each listing was posted\n",
    "\n",
    "# First, keep only the listings that are not available anymore\n",
    "\n",
    "latest_seen = simple_df['last_seen'].max()\n",
    "\n",
    "taken_down_df = simple_df[simple_df['last_seen'] < latest_seen]\n",
    "\n",
    "# Then, keep only the latest post of each id\n",
    "latest_taken_down_df = taken_down_df.sort_values('last_seen', ascending = False).groupby('id').first()\n",
    "\n",
    "latest_taken_down_df.loc[:, 'duration'] = latest_taken_down_df.loc[:, 'last_seen'] - latest_taken_down_df.loc[:, 'date']\n",
    "\n",
    "avg_duration = np.mean(latest_taken_down_df['duration'])\n",
    "avg_duration = datetime.timedelta(days = avg_duration.days, seconds = int(avg_duration.seconds)) \n",
    "\n",
    "med_duration = np.median(latest_taken_down_df['duration']) / 10 ** 9\n",
    "med_duration = datetime.timedelta(seconds = int(med_duration))\n",
    "\n",
    "print('Average time a listing is posted: ', avg_duration)\n",
    "print('Median time a listing is posted: ', med_duration)"
   ]
  },
  {
   "cell_type": "code",
   "execution_count": 24,
   "metadata": {},
   "outputs": [
    {
     "data": {
      "text/plain": [
       "<matplotlib.axes._subplots.AxesSubplot at 0x7fa750673dd0>"
      ]
     },
     "execution_count": 24,
     "metadata": {},
     "output_type": "execute_result"
    },
    {
     "data": {
      "image/png": "[encoded data removed]",
      "text/plain": [
       "<Figure size 432x288 with 1 Axes>"
      ]
     },
     "metadata": {
      "needs_background": "light"
     },
     "output_type": "display_data"
    }
   ],
   "source": [
    "duration_hours = latest_taken_down_df['duration'].apply(lambda x: x.days + x.seconds / 3600 / 24)\n",
    "duration_hours.plot.hist(bins = 100)   # histogram showing how many days listings stayed on the webstie"
   ]
  },
  {
   "cell_type": "code",
   "execution_count": null,
   "metadata": {},
   "outputs": [],
   "source": []
  },
  {
   "cell_type": "code",
   "execution_count": null,
   "metadata": {},
   "outputs": [],
   "source": []
  },
  {
   "cell_type": "code",
   "execution_count": null,
   "metadata": {},
   "outputs": [],
   "source": []
  },
  {
   "cell_type": "code",
   "execution_count": null,
   "metadata": {},
   "outputs": [],
   "source": []
  },
  {
   "cell_type": "code",
   "execution_count": null,
   "metadata": {},
   "outputs": [],
   "source": []
  },
  {
   "cell_type": "code",
   "execution_count": null,
   "metadata": {},
   "outputs": [],
   "source": []
  },
  {
   "cell_type": "code",
   "execution_count": null,
   "metadata": {},
   "outputs": [],
   "source": []
  },
  {
   "cell_type": "code",
   "execution_count": null,
   "metadata": {},
   "outputs": [],
   "source": []
  },
  {
   "cell_type": "code",
   "execution_count": null,
   "metadata": {},
   "outputs": [],
   "source": []
  },
  {
   "cell_type": "code",
   "execution_count": null,
   "metadata": {},
   "outputs": [],
   "source": []
  },
  {
   "cell_type": "code",
   "execution_count": null,
   "metadata": {},
   "outputs": [],
   "source": []
  },
  {
   "cell_type": "code",
   "execution_count": null,
   "metadata": {},
   "outputs": [],
   "source": []
  },
  {
   "cell_type": "code",
   "execution_count": 7,
   "metadata": {},
   "outputs": [
    {
     "data": {
      "text/html": [
       "<div>\n",
       "<style scoped>\n",
       "    .dataframe tbody tr th:only-of-type {\n",
       "        vertical-align: middle;\n",
       "    }\n",
       "\n",
       "    .dataframe tbody tr th {\n",
       "        vertical-align: top;\n",
       "    }\n",
       "\n",
       "    .dataframe thead th {\n",
       "        text-align: right;\n",
       "    }\n",
       "</style>\n",
       "<table border=\"1\" class=\"dataframe\">\n",
       "  <thead>\n",
       "    <tr style=\"text-align: right;\">\n",
       "      <th></th>\n",
       "      <th>name</th>\n",
       "      <th>price</th>\n",
       "      <th>date</th>\n",
       "      <th>location</th>\n",
       "      <th>images</th>\n",
       "      <th>last_seen</th>\n",
       "    </tr>\n",
       "    <tr>\n",
       "      <th>id</th>\n",
       "      <th></th>\n",
       "      <th></th>\n",
       "      <th></th>\n",
       "      <th></th>\n",
       "      <th></th>\n",
       "      <th></th>\n",
       "    </tr>\n",
       "  </thead>\n",
       "  <tbody>\n",
       "    <tr>\n",
       "      <td>7169545659</td>\n",
       "      <td>9</td>\n",
       "      <td>9</td>\n",
       "      <td>9</td>\n",
       "      <td>9</td>\n",
       "      <td>9</td>\n",
       "      <td>9</td>\n",
       "    </tr>\n",
       "    <tr>\n",
       "      <td>7175689700</td>\n",
       "      <td>9</td>\n",
       "      <td>9</td>\n",
       "      <td>9</td>\n",
       "      <td>9</td>\n",
       "      <td>9</td>\n",
       "      <td>9</td>\n",
       "    </tr>\n",
       "    <tr>\n",
       "      <td>7178706425</td>\n",
       "      <td>8</td>\n",
       "      <td>0</td>\n",
       "      <td>8</td>\n",
       "      <td>8</td>\n",
       "      <td>8</td>\n",
       "      <td>8</td>\n",
       "    </tr>\n",
       "    <tr>\n",
       "      <td>7176312281</td>\n",
       "      <td>8</td>\n",
       "      <td>8</td>\n",
       "      <td>8</td>\n",
       "      <td>8</td>\n",
       "      <td>8</td>\n",
       "      <td>8</td>\n",
       "    </tr>\n",
       "    <tr>\n",
       "      <td>7177665853</td>\n",
       "      <td>6</td>\n",
       "      <td>6</td>\n",
       "      <td>6</td>\n",
       "      <td>6</td>\n",
       "      <td>6</td>\n",
       "      <td>6</td>\n",
       "    </tr>\n",
       "    <tr>\n",
       "      <td>...</td>\n",
       "      <td>...</td>\n",
       "      <td>...</td>\n",
       "      <td>...</td>\n",
       "      <td>...</td>\n",
       "      <td>...</td>\n",
       "      <td>...</td>\n",
       "    </tr>\n",
       "    <tr>\n",
       "      <td>7171684852</td>\n",
       "      <td>2</td>\n",
       "      <td>2</td>\n",
       "      <td>2</td>\n",
       "      <td>2</td>\n",
       "      <td>2</td>\n",
       "      <td>2</td>\n",
       "    </tr>\n",
       "    <tr>\n",
       "      <td>7173141601</td>\n",
       "      <td>2</td>\n",
       "      <td>2</td>\n",
       "      <td>2</td>\n",
       "      <td>2</td>\n",
       "      <td>2</td>\n",
       "      <td>2</td>\n",
       "    </tr>\n",
       "    <tr>\n",
       "      <td>7174455582</td>\n",
       "      <td>2</td>\n",
       "      <td>2</td>\n",
       "      <td>2</td>\n",
       "      <td>2</td>\n",
       "      <td>2</td>\n",
       "      <td>2</td>\n",
       "    </tr>\n",
       "    <tr>\n",
       "      <td>7175254051</td>\n",
       "      <td>2</td>\n",
       "      <td>2</td>\n",
       "      <td>2</td>\n",
       "      <td>2</td>\n",
       "      <td>2</td>\n",
       "      <td>2</td>\n",
       "    </tr>\n",
       "    <tr>\n",
       "      <td>7180592816</td>\n",
       "      <td>2</td>\n",
       "      <td>2</td>\n",
       "      <td>2</td>\n",
       "      <td>2</td>\n",
       "      <td>2</td>\n",
       "      <td>2</td>\n",
       "    </tr>\n",
       "  </tbody>\n",
       "</table>\n",
       "<p>95 rows × 6 columns</p>\n",
       "</div>"
      ],
      "text/plain": [
       "            name  price  date  location  images  last_seen\n",
       "id                                                        \n",
       "7169545659     9      9     9         9       9          9\n",
       "7175689700     9      9     9         9       9          9\n",
       "7178706425     8      0     8         8       8          8\n",
       "7176312281     8      8     8         8       8          8\n",
       "7177665853     6      6     6         6       6          6\n",
       "...          ...    ...   ...       ...     ...        ...\n",
       "7171684852     2      2     2         2       2          2\n",
       "7173141601     2      2     2         2       2          2\n",
       "7174455582     2      2     2         2       2          2\n",
       "7175254051     2      2     2         2       2          2\n",
       "7180592816     2      2     2         2       2          2\n",
       "\n",
       "[95 rows x 6 columns]"
      ]
     },
     "execution_count": 7,
     "metadata": {},
     "output_type": "execute_result"
    }
   ],
   "source": [
    "# find id of listings that posted twice or more\n",
    "\n",
    "repost_id = list(simple_df.id)\n",
    "repost_id = [each for each in repost_id if repost_id.count(each) > 1]\n",
    "repost_id = list(set(repost_id))\n",
    "\n",
    "reposts = simple_df[simple_df['id'].isin(repost_id)].sort_values('id')\n",
    "reposts.groupby('id').count().sort_values('name', ascending = False)"
   ]
  },
  {
   "cell_type": "code",
   "execution_count": null,
   "metadata": {},
   "outputs": [],
   "source": []
  }
 ],
 "metadata": {
  "kernelspec": {
   "display_name": "Python 3",
   "language": "python",
   "name": "python3"
  },
  "language_info": {
   "codemirror_mode": {
    "name": "ipython",
    "version": 3
   },
   "file_extension": ".py",
   "mimetype": "text/x-python",
   "name": "python",
   "nbconvert_exporter": "python",
   "pygments_lexer": "ipython3",
   "version": "3.7.4"
  }
 },
 "nbformat": 4,
 "nbformat_minor": 2
}
