{
 "cells": [
  {
   "cell_type": "code",
   "execution_count": 1,
   "metadata": {},
   "outputs": [],
   "source": [
    "import pandas as pd\n",
    "import numpy as np\n",
    "import datetime\n",
    "\n",
    "from matplotlib import pyplot as plt"
   ]
  },
  {
   "cell_type": "markdown",
   "metadata": {},
   "source": [
    "## Wrangle Data"
   ]
  },
  {
   "cell_type": "code",
   "execution_count": 2,
   "metadata": {
    "scrolled": true
   },
   "outputs": [],
   "source": [
    "full_df = pd.read_csv('tracking.csv', parse_dates = ['date', 'last_seen'])\n",
    "simple_df = full_df.copy()"
   ]
  },
  {
   "cell_type": "code",
   "execution_count": 3,
   "metadata": {},
   "outputs": [],
   "source": [
    "# In the Python script, I used df.drop_duplicates(), but duplicates containing NaN values were not dropped\n",
    "# even if they have duplciates.\n",
    "# I will circumvent this issue by resetting NaN to a different \"none\"\n",
    "\n",
    "cols = simple_df.columns\n",
    "\n",
    "for col in cols:\n",
    "    simple_df[col] = ['none' if each is np.nan else each for each in simple_df[col]]"
   ]
  },
  {
   "cell_type": "code",
   "execution_count": 4,
   "metadata": {},
   "outputs": [],
   "source": [
    "simple_df.sort_values('last_seen', ascending = False, inplace = True)\n",
    "simple_df.drop_duplicates(subset = ['name', 'price', 'location', 'images'], keep = 'first', inplace = True)"
   ]
  },
  {
   "cell_type": "code",
   "execution_count": 5,
   "metadata": {
    "scrolled": true
   },
   "outputs": [
    {
     "data": {
      "text/html": [
       "<div>\n",
       "<style scoped>\n",
       "    .dataframe tbody tr th:only-of-type {\n",
       "        vertical-align: middle;\n",
       "    }\n",
       "\n",
       "    .dataframe tbody tr th {\n",
       "        vertical-align: top;\n",
       "    }\n",
       "\n",
       "    .dataframe thead th {\n",
       "        text-align: right;\n",
       "    }\n",
       "</style>\n",
       "<table border=\"1\" class=\"dataframe\">\n",
       "  <thead>\n",
       "    <tr style=\"text-align: right;\">\n",
       "      <th></th>\n",
       "      <th>id</th>\n",
       "      <th>name</th>\n",
       "      <th>price</th>\n",
       "      <th>date</th>\n",
       "      <th>location</th>\n",
       "      <th>images</th>\n",
       "      <th>last_seen</th>\n",
       "    </tr>\n",
       "  </thead>\n",
       "  <tbody>\n",
       "    <tr>\n",
       "      <td>21151</td>\n",
       "      <td>7164803513</td>\n",
       "      <td>19</td>\n",
       "      <td>995.0</td>\n",
       "      <td>2020-07-23 16:18:00</td>\n",
       "      <td>Bucket Of Nails</td>\n",
       "      <td>24</td>\n",
       "      <td>2020-08-22 18:00:18</td>\n",
       "    </tr>\n",
       "    <tr>\n",
       "      <td>21082</td>\n",
       "      <td>7166915620</td>\n",
       "      <td>48</td>\n",
       "      <td>899.0</td>\n",
       "      <td>2020-07-27 11:27:00</td>\n",
       "      <td>40-70% OFF RETAIL!</td>\n",
       "      <td>1</td>\n",
       "      <td>2020-08-22 18:00:18</td>\n",
       "    </tr>\n",
       "    <tr>\n",
       "      <td>21071</td>\n",
       "      <td>7167127774</td>\n",
       "      <td>55</td>\n",
       "      <td>280.0</td>\n",
       "      <td>2020-07-27 16:50:00</td>\n",
       "      <td>none</td>\n",
       "      <td>2</td>\n",
       "      <td>2020-08-22 18:00:18</td>\n",
       "    </tr>\n",
       "    <tr>\n",
       "      <td>21072</td>\n",
       "      <td>7178151570</td>\n",
       "      <td>18</td>\n",
       "      <td>75.0</td>\n",
       "      <td>2020-08-15 15:31:00</td>\n",
       "      <td>Scripps Ranch</td>\n",
       "      <td>4</td>\n",
       "      <td>2020-08-22 18:00:18</td>\n",
       "    </tr>\n",
       "    <tr>\n",
       "      <td>21073</td>\n",
       "      <td>7178051452</td>\n",
       "      <td>37</td>\n",
       "      <td>995.0</td>\n",
       "      <td>2020-08-15 12:44:00</td>\n",
       "      <td>Bucket of Nails</td>\n",
       "      <td>24</td>\n",
       "      <td>2020-08-22 18:00:18</td>\n",
       "    </tr>\n",
       "  </tbody>\n",
       "</table>\n",
       "</div>"
      ],
      "text/plain": [
       "               id  name  price                date            location  \\\n",
       "21151  7164803513    19  995.0 2020-07-23 16:18:00     Bucket Of Nails   \n",
       "21082  7166915620    48  899.0 2020-07-27 11:27:00  40-70% OFF RETAIL!   \n",
       "21071  7167127774    55  280.0 2020-07-27 16:50:00                none   \n",
       "21072  7178151570    18   75.0 2020-08-15 15:31:00       Scripps Ranch   \n",
       "21073  7178051452    37  995.0 2020-08-15 12:44:00     Bucket of Nails   \n",
       "\n",
       "       images           last_seen  \n",
       "21151      24 2020-08-22 18:00:18  \n",
       "21082       1 2020-08-22 18:00:18  \n",
       "21071       2 2020-08-22 18:00:18  \n",
       "21072       4 2020-08-22 18:00:18  \n",
       "21073      24 2020-08-22 18:00:18  "
      ]
     },
     "execution_count": 5,
     "metadata": {},
     "output_type": "execute_result"
    }
   ],
   "source": [
    "# drop all columns unnecessary for analysis\n",
    "simple_df = simple_df.drop('url', axis = 1)\n",
    "\n",
    "# only the number of images posted are in our interest\n",
    "simple_df['images'] = simple_df['images'].apply(lambda x: 0 if (isinstance(x, float) and math.isnan(x)) else len(x.split(',')))\n",
    "\n",
    "# only the number of characters of a listing's name is important for this analysis\n",
    "simple_df['name'] = simple_df['name'].apply(lambda x: len(x))\n",
    "\n",
    "simple_df.head()"
   ]
  },
  {
   "cell_type": "markdown",
   "metadata": {},
   "source": [
    "## Important Constant Values"
   ]
  },
  {
   "cell_type": "code",
   "execution_count": 6,
   "metadata": {},
   "outputs": [
    {
     "data": {
      "text/plain": [
       "8.499849537037036"
      ]
     },
     "execution_count": 6,
     "metadata": {},
     "output_type": "execute_result"
    }
   ],
   "source": [
    "# When did the webscraping start and end?\n",
    "start_date = simple_df['last_seen'].min()\n",
    "end_date = simple_df['last_seen'].max()\n",
    "\n",
    "# Over what course, in days, of time was data collected?\n",
    "time_passed = (end_date - start_date).days + (end_date - start_date).seconds / 3600 / 24\n",
    "time_passed"
   ]
  },
  {
   "cell_type": "markdown",
   "metadata": {},
   "source": [
    "## For How Long Do Listings Usually Stay on The Website?"
   ]
  },
  {
   "cell_type": "code",
   "execution_count": 7,
   "metadata": {},
   "outputs": [
    {
     "name": "stdout",
     "output_type": "stream",
     "text": [
      "Average time a listing is posted:  8 days, 13:54:20\n",
      "Median time a listing is posted:  5 days, 12:12:18\n"
     ]
    }
   ],
   "source": [
    "# Let's see for how long each listing was posted\n",
    "\n",
    "# First, keep only the listings that are not available anymore\n",
    "\n",
    "taken_down_df = simple_df[simple_df['last_seen'] < end_date]\n",
    "\n",
    "# Then, keep only the latest post of each id:\n",
    "# the dataframe records all changes made to every posting; \n",
    "# let's only observe the latest posting of each id\n",
    "\n",
    "latest_taken_down_df = taken_down_df.sort_values('last_seen', ascending = False).groupby('id').first()\n",
    "\n",
    "latest_taken_down_df.loc[:, 'duration'] = latest_taken_down_df.loc[:, 'last_seen'] - latest_taken_down_df.loc[:, 'date']\n",
    "\n",
    "avg_duration = np.mean(latest_taken_down_df['duration'])\n",
    "avg_duration = datetime.timedelta(days = avg_duration.days, seconds = int(avg_duration.seconds)) \n",
    "\n",
    "med_duration = np.median(latest_taken_down_df['duration']) / 10 ** 9\n",
    "med_duration = datetime.timedelta(seconds = int(med_duration))\n",
    "\n",
    "print('Average time a listing is posted: ', avg_duration)\n",
    "print('Median time a listing is posted: ', med_duration)"
   ]
  },
  {
   "cell_type": "code",
   "execution_count": 29,
   "metadata": {},
   "outputs": [
    {
     "data": {
      "text/plain": [
       "Text(0.5, 1.0, 'How Long it Takes Until a Post Gets Taken Down')"
      ]
     },
     "execution_count": 29,
     "metadata": {},
     "output_type": "execute_result"
    },
    {
     "data": {
      "image/png": "[encoded data removed]",
      "text/plain": [
       "<Figure size 432x288 with 1 Axes>"
      ]
     },
     "metadata": {
      "needs_background": "light"
     },
     "output_type": "display_data"
    }
   ],
   "source": [
    "duration_hours = latest_taken_down_df['duration'].apply(lambda x: x.days + x.seconds / 3600 / 24)\n",
    "ax = duration_hours.plot.hist(bins = 100)   # histogram showing how many days listings stayed on the webstie\n",
    "ax.set_xlabel('Days Taken for Post to be Taken Down')\n",
    "ax.set_ylabel('Number of Posts')\n",
    "ax.set_title('How Long it Takes Until a Post Gets Taken Down')"
   ]
  },
  {
   "cell_type": "markdown",
   "metadata": {},
   "source": [
    "## What Determines a Post's Duration, if any?"
   ]
  },
  {
   "cell_type": "code",
   "execution_count": 9,
   "metadata": {
    "scrolled": false
   },
   "outputs": [
    {
     "data": {
      "text/html": [
       "<div>\n",
       "<style scoped>\n",
       "    .dataframe tbody tr th:only-of-type {\n",
       "        vertical-align: middle;\n",
       "    }\n",
       "\n",
       "    .dataframe tbody tr th {\n",
       "        vertical-align: top;\n",
       "    }\n",
       "\n",
       "    .dataframe thead th {\n",
       "        text-align: right;\n",
       "    }\n",
       "</style>\n",
       "<table border=\"1\" class=\"dataframe\">\n",
       "  <thead>\n",
       "    <tr style=\"text-align: right;\">\n",
       "      <th></th>\n",
       "      <th>name</th>\n",
       "      <th>price</th>\n",
       "      <th>location</th>\n",
       "      <th>images</th>\n",
       "      <th>duration</th>\n",
       "    </tr>\n",
       "    <tr>\n",
       "      <th>id</th>\n",
       "      <th></th>\n",
       "      <th></th>\n",
       "      <th></th>\n",
       "      <th></th>\n",
       "      <th></th>\n",
       "    </tr>\n",
       "  </thead>\n",
       "  <tbody>\n",
       "    <tr>\n",
       "      <td>7156614762</td>\n",
       "      <td>70</td>\n",
       "      <td>200.0</td>\n",
       "      <td>Mission Beach</td>\n",
       "      <td>11</td>\n",
       "      <td>7.223657</td>\n",
       "    </tr>\n",
       "    <tr>\n",
       "      <td>7158618437</td>\n",
       "      <td>65</td>\n",
       "      <td>25.0</td>\n",
       "      <td>Each.  San Marcos, Pioneer Industrial Park</td>\n",
       "      <td>9</td>\n",
       "      <td>7.632755</td>\n",
       "    </tr>\n",
       "    <tr>\n",
       "      <td>7159700475</td>\n",
       "      <td>29</td>\n",
       "      <td>219.0</td>\n",
       "      <td>SAN DIEGO</td>\n",
       "      <td>7</td>\n",
       "      <td>30.356424</td>\n",
       "    </tr>\n",
       "    <tr>\n",
       "      <td>7159799309</td>\n",
       "      <td>63</td>\n",
       "      <td>0.0</td>\n",
       "      <td>San Diego</td>\n",
       "      <td>24</td>\n",
       "      <td>30.384456</td>\n",
       "    </tr>\n",
       "    <tr>\n",
       "      <td>7159852995</td>\n",
       "      <td>54</td>\n",
       "      <td>1.0</td>\n",
       "      <td>none</td>\n",
       "      <td>24</td>\n",
       "      <td>30.416910</td>\n",
       "    </tr>\n",
       "    <tr>\n",
       "      <td>...</td>\n",
       "      <td>...</td>\n",
       "      <td>...</td>\n",
       "      <td>...</td>\n",
       "      <td>...</td>\n",
       "      <td>...</td>\n",
       "    </tr>\n",
       "    <tr>\n",
       "      <td>7182493857</td>\n",
       "      <td>63</td>\n",
       "      <td>60.0</td>\n",
       "      <td>Escondido</td>\n",
       "      <td>8</td>\n",
       "      <td>0.071586</td>\n",
       "    </tr>\n",
       "    <tr>\n",
       "      <td>7182500246</td>\n",
       "      <td>41</td>\n",
       "      <td>80.0</td>\n",
       "      <td>Encinitas</td>\n",
       "      <td>3</td>\n",
       "      <td>0.061863</td>\n",
       "    </tr>\n",
       "    <tr>\n",
       "      <td>7182506611</td>\n",
       "      <td>54</td>\n",
       "      <td>0.0</td>\n",
       "      <td>none</td>\n",
       "      <td>2</td>\n",
       "      <td>0.011169</td>\n",
       "    </tr>\n",
       "    <tr>\n",
       "      <td>7182515746</td>\n",
       "      <td>54</td>\n",
       "      <td>1.0</td>\n",
       "      <td>none</td>\n",
       "      <td>24</td>\n",
       "      <td>0.041725</td>\n",
       "    </tr>\n",
       "    <tr>\n",
       "      <td>7182532379</td>\n",
       "      <td>40</td>\n",
       "      <td>25.0</td>\n",
       "      <td>East county</td>\n",
       "      <td>2</td>\n",
       "      <td>0.011863</td>\n",
       "    </tr>\n",
       "  </tbody>\n",
       "</table>\n",
       "<p>630 rows × 5 columns</p>\n",
       "</div>"
      ],
      "text/plain": [
       "            name  price                                    location  images  \\\n",
       "id                                                                            \n",
       "7156614762    70  200.0                               Mission Beach      11   \n",
       "7158618437    65   25.0  Each.  San Marcos, Pioneer Industrial Park       9   \n",
       "7159700475    29  219.0                                   SAN DIEGO       7   \n",
       "7159799309    63    0.0                                   San Diego      24   \n",
       "7159852995    54    1.0                                        none      24   \n",
       "...          ...    ...                                         ...     ...   \n",
       "7182493857    63   60.0                                   Escondido       8   \n",
       "7182500246    41   80.0                                   Encinitas       3   \n",
       "7182506611    54    0.0                                        none       2   \n",
       "7182515746    54    1.0                                        none      24   \n",
       "7182532379    40   25.0                                 East county       2   \n",
       "\n",
       "             duration  \n",
       "id                     \n",
       "7156614762   7.223657  \n",
       "7158618437   7.632755  \n",
       "7159700475  30.356424  \n",
       "7159799309  30.384456  \n",
       "7159852995  30.416910  \n",
       "...               ...  \n",
       "7182493857   0.071586  \n",
       "7182500246   0.061863  \n",
       "7182506611   0.011169  \n",
       "7182515746   0.041725  \n",
       "7182532379   0.011863  \n",
       "\n",
       "[630 rows x 5 columns]"
      ]
     },
     "execution_count": 9,
     "metadata": {},
     "output_type": "execute_result"
    }
   ],
   "source": [
    "factor_df = latest_taken_down_df.drop(['date', 'last_seen'], axis = 1)\n",
    "factor_df['duration'] = [each.days + int(each.seconds) / 3600 / 24 for each in factor_df['duration']]\n",
    "factor_df"
   ]
  },
  {
   "cell_type": "code",
   "execution_count": 30,
   "metadata": {},
   "outputs": [
    {
     "name": "stderr",
     "output_type": "stream",
     "text": [
      "/Users/taekunkim/opt/anaconda3/lib/python3.7/site-packages/ipykernel_launcher.py:2: SettingWithCopyWarning: \n",
      "A value is trying to be set on a copy of a slice from a DataFrame.\n",
      "Try using .loc[row_indexer,col_indexer] = value instead\n",
      "\n",
      "See the caveats in the documentation: http://pandas.pydata.org/pandas-docs/stable/user_guide/indexing.html#returning-a-view-versus-a-copy\n",
      "  \n",
      "/Users/taekunkim/opt/anaconda3/lib/python3.7/site-packages/ipykernel_launcher.py:3: SettingWithCopyWarning: \n",
      "A value is trying to be set on a copy of a slice from a DataFrame.\n",
      "Try using .loc[row_indexer,col_indexer] = value instead\n",
      "\n",
      "See the caveats in the documentation: http://pandas.pydata.org/pandas-docs/stable/user_guide/indexing.html#returning-a-view-versus-a-copy\n",
      "  This is separate from the ipykernel package so we can avoid doing imports until\n"
     ]
    },
    {
     "data": {
      "text/plain": [
       "Text(0.5, 1.0, 'How May Characters There Are in a Product Title')"
      ]
     },
     "execution_count": 30,
     "metadata": {},
     "output_type": "execute_result"
    },
    {
     "data": {
      "image/png": "[encoded data removed]",
      "text/plain": [
       "<Figure size 432x288 with 1 Axes>"
      ]
     },
     "metadata": {
      "needs_background": "light"
     },
     "output_type": "display_data"
    }
   ],
   "source": [
    "name_duration_df = factor_df[['name', 'duration']]\n",
    "name_duration_df['name'] = name_duration_df['name'].apply(lambda x: x // 5)\n",
    "name_duration_df['name'] = name_duration_df['name'] * 5\n",
    "name_count = name_duration_df.groupby('name').count().reset_index().plot.bar(x = 'name', y = 'duration')\n",
    "name_count.set_xlabel('Number of Characters in Product Title')\n",
    "name_count.set_ylabel('Number of Posts')\n",
    "name_count.set_title('How May Characters There Are in a Product Title')"
   ]
  },
  {
   "cell_type": "code",
   "execution_count": 31,
   "metadata": {},
   "outputs": [
    {
     "data": {
      "text/plain": [
       "Text(0.5, 1.0, 'Posting Duration VS Length of Product Title')"
      ]
     },
     "execution_count": 31,
     "metadata": {},
     "output_type": "execute_result"
    },
    {
     "data": {
      "image/png": "[encoded data removed]",
      "text/plain": [
       "<Figure size 432x288 with 1 Axes>"
      ]
     },
     "metadata": {
      "needs_background": "light"
     },
     "output_type": "display_data"
    }
   ],
   "source": [
    "name_duration = name_duration_df.groupby('name').mean().reset_index()\n",
    "name_duration = name_duration.plot.bar(x = 'name', y = 'duration')\n",
    "name_duration.set_xlabel('Number of Characters in Product Title')\n",
    "name_duration.set_ylabel('Duration of Time a Listing Was Posted (Days)')\n",
    "name_duration.set_title('Posting Duration VS Length of Product Title')"
   ]
  },
  {
   "cell_type": "code",
   "execution_count": 32,
   "metadata": {},
   "outputs": [
    {
     "name": "stderr",
     "output_type": "stream",
     "text": [
      "/Users/taekunkim/opt/anaconda3/lib/python3.7/site-packages/ipykernel_launcher.py:2: SettingWithCopyWarning: \n",
      "A value is trying to be set on a copy of a slice from a DataFrame.\n",
      "Try using .loc[row_indexer,col_indexer] = value instead\n",
      "\n",
      "See the caveats in the documentation: http://pandas.pydata.org/pandas-docs/stable/user_guide/indexing.html#returning-a-view-versus-a-copy\n",
      "  \n",
      "/Users/taekunkim/opt/anaconda3/lib/python3.7/site-packages/ipykernel_launcher.py:3: SettingWithCopyWarning: \n",
      "A value is trying to be set on a copy of a slice from a DataFrame.\n",
      "Try using .loc[row_indexer,col_indexer] = value instead\n",
      "\n",
      "See the caveats in the documentation: http://pandas.pydata.org/pandas-docs/stable/user_guide/indexing.html#returning-a-view-versus-a-copy\n",
      "  This is separate from the ipykernel package so we can avoid doing imports until\n"
     ]
    },
    {
     "data": {
      "text/plain": [
       "Text(0.5, 1.0, 'How Much a Product Costs')"
      ]
     },
     "execution_count": 32,
     "metadata": {},
     "output_type": "execute_result"
    },
    {
     "data": {
      "image/png": "[encoded data removed]",
      "text/plain": [
       "<Figure size 432x288 with 1 Axes>"
      ]
     },
     "metadata": {
      "needs_background": "light"
     },
     "output_type": "display_data"
    }
   ],
   "source": [
    "price_duration_df = factor_df[['price', 'duration']]\n",
    "price_duration_df['price'] = price_duration_df['price'].apply(lambda x: x // 50)\n",
    "price_duration_df['price'] = price_duration_df['price'] * 50\n",
    "price_count = price_duration_df.groupby('price').count().reset_index().plot.bar(x = 'price', y = 'duration')\n",
    "price_count.set_xlabel('Price of Product ($)')\n",
    "price_count.set_ylabel('Number of Posts')\n",
    "price_count.set_title('How Much a Product Costs')"
   ]
  },
  {
   "cell_type": "code",
   "execution_count": 33,
   "metadata": {
    "scrolled": false
   },
   "outputs": [
    {
     "data": {
      "text/plain": [
       "Text(0.5, 1.0, 'Posting Duration VS Product Price')"
      ]
     },
     "execution_count": 33,
     "metadata": {},
     "output_type": "execute_result"
    },
    {
     "data": {
      "image/png": "[encoded data removed]",
      "text/plain": [
       "<Figure size 432x288 with 1 Axes>"
      ]
     },
     "metadata": {
      "needs_background": "light"
     },
     "output_type": "display_data"
    }
   ],
   "source": [
    "price_duration = price_duration_df.groupby('price').mean().reset_index()\n",
    "price_duration = price_duration.plot.bar(x = 'price', y = 'duration')\n",
    "price_duration.set_xlabel('Price of Product ($)')\n",
    "price_duration.set_ylabel('Duration of Time a Listing Was Posted (Days)')\n",
    "price_duration.set_title('Posting Duration VS Product Price')"
   ]
  },
  {
   "cell_type": "code",
   "execution_count": 40,
   "metadata": {},
   "outputs": [
    {
     "name": "stderr",
     "output_type": "stream",
     "text": [
      "/Users/taekunkim/opt/anaconda3/lib/python3.7/site-packages/ipykernel_launcher.py:2: SettingWithCopyWarning: \n",
      "A value is trying to be set on a copy of a slice from a DataFrame.\n",
      "Try using .loc[row_indexer,col_indexer] = value instead\n",
      "\n",
      "See the caveats in the documentation: http://pandas.pydata.org/pandas-docs/stable/user_guide/indexing.html#returning-a-view-versus-a-copy\n",
      "  \n",
      "/Users/taekunkim/opt/anaconda3/lib/python3.7/site-packages/ipykernel_launcher.py:3: SettingWithCopyWarning: \n",
      "A value is trying to be set on a copy of a slice from a DataFrame.\n",
      "Try using .loc[row_indexer,col_indexer] = value instead\n",
      "\n",
      "See the caveats in the documentation: http://pandas.pydata.org/pandas-docs/stable/user_guide/indexing.html#returning-a-view-versus-a-copy\n",
      "  This is separate from the ipykernel package so we can avoid doing imports until\n"
     ]
    },
    {
     "data": {
      "text/plain": [
       "Text(0.5, 1.0, 'How Much a Product Costs (Under $50)')"
      ]
     },
     "execution_count": 40,
     "metadata": {},
     "output_type": "execute_result"
    },
    {
     "data": {
      "image/png": "[encoded data removed]",
      "text/plain": [
       "<Figure size 432x288 with 1 Axes>"
      ]
     },
     "metadata": {
      "needs_background": "light"
     },
     "output_type": "display_data"
    }
   ],
   "source": [
    "low_price_duration_df = factor_df[factor_df['price'] <= 50]\n",
    "low_price_duration_df['price'] = low_price_duration_df['price'].apply(lambda x: x // 5)\n",
    "low_price_duration_df['price'] = low_price_duration_df['price'] * 5\n",
    "low_price_count = low_price_duration_df.groupby('price').count().reset_index().plot.bar(x = 'price', y = 'duration')\n",
    "\n",
    "low_price_count.set_xlabel('Price of Product ($)')\n",
    "low_price_count.set_ylabel('Number of Posts')\n",
    "low_price_count.set_title('How Much a Product Costs (Under $50)')"
   ]
  },
  {
   "cell_type": "code",
   "execution_count": 41,
   "metadata": {
    "scrolled": true
   },
   "outputs": [
    {
     "data": {
      "text/plain": [
       "Text(0.5, 1.0, 'Posting Duration VS Product Price (Under $50)')"
      ]
     },
     "execution_count": 41,
     "metadata": {},
     "output_type": "execute_result"
    },
    {
     "data": {
      "image/png": "[encoded data removed]",
      "text/plain": [
       "<Figure size 432x288 with 1 Axes>"
      ]
     },
     "metadata": {
      "needs_background": "light"
     },
     "output_type": "display_data"
    }
   ],
   "source": [
    "low_price_duration = low_price_duration_df.groupby('price').mean().reset_index()\n",
    "low_price_duration = low_price_duration.plot.bar(x = 'price', y = 'duration')\n",
    "low_price_duration.set_xlabel('Price of Product ($)')\n",
    "low_price_duration.set_ylabel('Duration of Time a Listing Was Posted (Days)')\n",
    "low_price_duration.set_title('Posting Duration VS Product Price (Under $50)')"
   ]
  },
  {
   "cell_type": "code",
   "execution_count": 42,
   "metadata": {
    "scrolled": true
   },
   "outputs": [
    {
     "name": "stderr",
     "output_type": "stream",
     "text": [
      "/Users/taekunkim/opt/anaconda3/lib/python3.7/site-packages/ipykernel_launcher.py:2: SettingWithCopyWarning: \n",
      "A value is trying to be set on a copy of a slice from a DataFrame.\n",
      "Try using .loc[row_indexer,col_indexer] = value instead\n",
      "\n",
      "See the caveats in the documentation: http://pandas.pydata.org/pandas-docs/stable/user_guide/indexing.html#returning-a-view-versus-a-copy\n",
      "  \n"
     ]
    },
    {
     "data": {
      "text/plain": [
       "Text(0.5, 1.0, 'How Many Images a Listing Has')"
      ]
     },
     "execution_count": 42,
     "metadata": {},
     "output_type": "execute_result"
    },
    {
     "data": {
      "image/png": "[encoded data removed]",
      "text/plain": [
       "<Figure size 432x288 with 1 Axes>"
      ]
     },
     "metadata": {
      "needs_background": "light"
     },
     "output_type": "display_data"
    }
   ],
   "source": [
    "image_duration_df = factor_df[['images', 'duration']]\n",
    "image_duration_df['images'] = image_duration_df['images']\n",
    "image_count = image_duration_df.groupby('images').count().reset_index().plot.bar(x = 'images', y = 'duration')\n",
    "image_count.set_xlabel('Number of Images')\n",
    "image_count.set_ylabel('Count')\n",
    "image_count.set_title('How Many Images a Listing Has')"
   ]
  },
  {
   "cell_type": "code",
   "execution_count": 43,
   "metadata": {},
   "outputs": [
    {
     "data": {
      "text/plain": [
       "Text(0.5, 1.0, 'Posting Duration VS Number of Images')"
      ]
     },
     "execution_count": 43,
     "metadata": {},
     "output_type": "execute_result"
    },
    {
     "data": {
      "image/png": "[encoded data removed]",
      "text/plain": [
       "<Figure size 432x288 with 1 Axes>"
      ]
     },
     "metadata": {
      "needs_background": "light"
     },
     "output_type": "display_data"
    }
   ],
   "source": [
    "image_duration = image_duration_df.groupby('images').mean().reset_index()\n",
    "image_duration = image_duration.plot.bar(x = 'images', y = 'duration')\n",
    "image_duration.set_xlabel('Number of Images')\n",
    "image_duration.set_ylabel('Duration of Time a Listing Was Posted (Days)')\n",
    "image_duration.set_title('Posting Duration VS Number of Images')"
   ]
  },
  {
   "cell_type": "markdown",
   "metadata": {},
   "source": [
    "## How Often Are Listings Posted?"
   ]
  },
  {
   "cell_type": "code",
   "execution_count": 18,
   "metadata": {},
   "outputs": [],
   "source": [
    "# Number of posted after I started webscraping\n",
    "posted_under_obs_df = simple_df[simple_df['date'] > start_date]\n",
    "n_posted_under_obs = posted_under_obs_df['id'].nunique()"
   ]
  },
  {
   "cell_type": "code",
   "execution_count": 19,
   "metadata": {
    "scrolled": true
   },
   "outputs": [
    {
     "name": "stdout",
     "output_type": "stream",
     "text": [
      "On average,  42.118392618605725  listings are posted every day\n"
     ]
    }
   ],
   "source": [
    "# Calculate average number of listings per day\n",
    "avg_post_per_day = n_posted_under_obs / time_passed\n",
    "print('On average, ', avg_post_per_day, ' listings are posted every day')"
   ]
  },
  {
   "cell_type": "markdown",
   "metadata": {},
   "source": [
    "## How Often Are Changes Made to Posts?"
   ]
  },
  {
   "cell_type": "code",
   "execution_count": 20,
   "metadata": {},
   "outputs": [],
   "source": [
    "# Find id of listings that were posted twice or more\n",
    "\n",
    "repost_id = list(posted_under_obs_df.id)  # again, I only use listings that were first posted \n",
    "                                          # only after I started webscraping\n",
    "repost_id = [each for each in repost_id if repost_id.count(each) > 1]\n",
    "repost_id = list(set(repost_id))"
   ]
  },
  {
   "cell_type": "code",
   "execution_count": 44,
   "metadata": {},
   "outputs": [
    {
     "name": "stdout",
     "output_type": "stream",
     "text": [
      "About  9.2179  percent of posts were altered in some way after being posted\n"
     ]
    }
   ],
   "source": [
    "# Find what percent of posts are every altered\n",
    "repost_percent = len(repost_id) / n_posted_under_obs * 100\n",
    "print('About ', round(repost_percent, 4), ' percent of posts were altered in some way after being posted')"
   ]
  },
  {
   "cell_type": "code",
   "execution_count": 45,
   "metadata": {},
   "outputs": [
    {
     "name": "stdout",
     "output_type": "stream",
     "text": [
      "Those who make changes to their listings do so  1.2424 , on average\n"
     ]
    }
   ],
   "source": [
    "# Find how ofter those who make changes to their listings do so\n",
    "reposts = simple_df[simple_df['id'].isin(repost_id)].sort_values('id')\n",
    "n_changes = np.mean(reposts.groupby('id').count()['last_seen']) - 1\n",
    "\n",
    "print('Those who make changes to their listings do so ', round(n_changes, 4), ', on average')"
   ]
  },
  {
   "cell_type": "markdown",
   "metadata": {},
   "source": [
    "## What Part of a Post is Changed the Most?"
   ]
  },
  {
   "cell_type": "code",
   "execution_count": 23,
   "metadata": {},
   "outputs": [],
   "source": [
    "cols = ['name', 'price', 'location', 'images']\n",
    "changed = []\n",
    "\n",
    "for each in repost_id:\n",
    "    df = simple_df[simple_df['id'] == each]\n",
    "    \n",
    "    for i in range(len(df) - 1):\n",
    "        \n",
    "        for col in cols:\n",
    "                        \n",
    "            if any(df[col].ne(df[col].shift().bfill())):\n",
    "                changed.append(col)\n",
    "        "
   ]
  },
  {
   "cell_type": "code",
   "execution_count": 24,
   "metadata": {},
   "outputs": [],
   "source": [
    "change_count = pd.DataFrame({'element': changed})\n",
    "change_count['count'] = 1\n",
    "change_count = change_count.groupby('element').count().reset_index().sort_values('count')"
   ]
  },
  {
   "cell_type": "code",
   "execution_count": 25,
   "metadata": {},
   "outputs": [],
   "source": [
    "total_changes = sum(change_count['count'])\n",
    "change_count['percentage'] = change_count['count'] / total_changes * 100"
   ]
  },
  {
   "cell_type": "code",
   "execution_count": 26,
   "metadata": {},
   "outputs": [
    {
     "data": {
      "image/png": "[encoded data removed]",
      "text/plain": [
       "<Figure size 432x288 with 1 Axes>"
      ]
     },
     "metadata": {},
     "output_type": "display_data"
    }
   ],
   "source": [
    "# The slices will be ordered and plotted counter-clockwise.\n",
    "labels = change_count['element']\n",
    "sizes = change_count['count']\n",
    "colors = ['gold', 'pink', 'skyblue', 'yellowgreen']\n",
    "\n",
    "plt.pie(sizes, labels = labels, colors = colors, autopct = '%1.1f%%')\n",
    "        \n",
    "#draw a circle at the center of pie to make it look like a donut\n",
    "centre_circle = plt.Circle((0,0), 0.8, fc = 'white', linewidth = 0)\n",
    "fig = plt.gcf()\n",
    "fig.gca().add_artist(centre_circle)\n",
    "\n",
    "# Set aspect ratio to be equal so that pie is drawn as a circle.\n",
    "plt.axis('equal')\n",
    "plt.show()  "
   ]
  },
  {
   "cell_type": "code",
   "execution_count": null,
   "metadata": {},
   "outputs": [],
   "source": []
  }
 ],
 "metadata": {
  "kernelspec": {
   "display_name": "Python 3",
   "language": "python",
   "name": "python3"
  },
  "language_info": {
   "codemirror_mode": {
    "name": "ipython",
    "version": 3
   },
   "file_extension": ".py",
   "mimetype": "text/x-python",
   "name": "python",
   "nbconvert_exporter": "python",
   "pygments_lexer": "ipython3",
   "version": "3.7.4"
  }
 },
 "nbformat": 4,
 "nbformat_minor": 2
}
